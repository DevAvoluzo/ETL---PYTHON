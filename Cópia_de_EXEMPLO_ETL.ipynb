{
  "nbformat": 4,
  "nbformat_minor": 0,
  "metadata": {
    "colab": {
      "provenance": [],
      "authorship_tag": "ABX9TyNiUZATODl93bj6ch9mj3fg",
      "include_colab_link": true
    },
    "kernelspec": {
      "name": "python3",
      "display_name": "Python 3"
    },
    "language_info": {
      "name": "python"
    }
  },
  "cells": [
    {
      "cell_type": "markdown",
      "metadata": {
        "id": "view-in-github",
        "colab_type": "text"
      },
      "source": [
        "<a href=\"https://colab.research.google.com/github/DevAvoluzo/ETL---PYTHON/blob/main/C%C3%B3pia_de_EXEMPLO_ETL.ipynb\" target=\"_parent\"><img src=\"https://colab.research.google.com/assets/colab-badge.svg\" alt=\"Open In Colab\"/></a>"
      ]
    },
    {
      "cell_type": "markdown",
      "source": [],
      "metadata": {
        "id": "M_aU4S_Kzx5v"
      }
    },
    {
      "cell_type": "code",
      "source": [
        "import pandas as pd\n",
        "\n",
        "import pandas as pd\n",
        "\n",
        "#extração dos dados da filial 1 (CSV)\n",
        "vendas_filial1 = pd.read_csv ('ETL_csv.csv')\n",
        "\n",
        "#extração dos dados da filial 2 (EXCEL)\n",
        "vendas_filial2 = pd.read_excel('ETL_xlsx.xlsx')\n",
        "\n",
        "#transformações\n",
        "#podemos fazer transformações adicionais aqui, se necessário\n",
        "\n",
        "#visualização dos dados\n",
        "print(\"dados da filial 1:\")\n",
        "print(vendas_filial1.head())\n",
        "print(\"dados da filial 2:\")\n",
        "print(vendas_filial2.head())\n",
        "\n",
        "\n",
        "#transformação dos dados: Clacular o valor total de vendas para cada filial\n",
        "vendas_filial1['Valor Total'] = vendas_filial1['Quantidade Vendida'] = vendas_filial1['Preço Unitário']\n",
        "vendas_filial2['Valor Total'] = vendas_filial2['Quantidade Vendida'] = vendas_filial2['Preço Unitário']\n",
        "\n",
        "#Visualizar os dados transformados\n",
        "print(\"Dados transformados da Filial 1:\")\n",
        "print(vendas_filial1.head())\n",
        "print(\"Dados transformados da Filial 2:\")\n",
        "print(vendas_filial2.head())\n",
        "\n",
        "\n",
        "import sqlite3\n",
        "\n",
        "# Connect to the SQLite database \"banco de dados.db\"\n",
        "conn = sqlite3.connect(\"banco de dados.db\")\n",
        "\n",
        "# Import CSV data into the SQLite table \"vendas_filial1 csv\"\n",
        "vendas_filial1.to_sql('vendas_filial1 csv', conn, if_exists='replace', index=False)\n",
        "\n",
        "# Import XLSX data into the SQLite table \"vendas_filial2 xlsx\"\n",
        "vendas_filial2.to_sql('vendas_filial2 xlsx', conn, if_exists='replace', index=False)\n",
        "\n",
        "# Close the connection to the SQLite database\n",
        "conn.close()\n"
      ],
      "metadata": {
        "id": "Npm0P6SgxfID"
      },
      "execution_count": null,
      "outputs": []
    }
  ]
}